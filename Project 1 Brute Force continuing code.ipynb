{
 "cells": [
  {
   "cell_type": "code",
   "execution_count": 117,
   "metadata": {},
   "outputs": [],
   "source": [
    "# Dependencies and Setup\n",
    "import csv\n",
    "import matplotlib.pyplot as plt\n",
    "import os\n",
    "import pandas as pd\n",
    "import numpy as np\n",
    "import requests\n",
    "import seaborn as sns\n",
    "import time\n",
    "\n"
   ]
  },
  {
   "cell_type": "code",
   "execution_count": null,
   "metadata": {},
   "outputs": [],
   "source": []
  },
  {
   "cell_type": "code",
   "execution_count": 118,
   "metadata": {},
   "outputs": [
    {
     "data": {
      "text/html": [
       "<div>\n",
       "<style scoped>\n",
       "    .dataframe tbody tr th:only-of-type {\n",
       "        vertical-align: middle;\n",
       "    }\n",
       "\n",
       "    .dataframe tbody tr th {\n",
       "        vertical-align: top;\n",
       "    }\n",
       "\n",
       "    .dataframe thead th {\n",
       "        text-align: right;\n",
       "    }\n",
       "</style>\n",
       "<table border=\"1\" class=\"dataframe\">\n",
       "  <thead>\n",
       "    <tr style=\"text-align: right;\">\n",
       "      <th></th>\n",
       "      <th>timestamp</th>\n",
       "      <th>open</th>\n",
       "      <th>high</th>\n",
       "      <th>low</th>\n",
       "      <th>close</th>\n",
       "      <th>volume</th>\n",
       "    </tr>\n",
       "  </thead>\n",
       "  <tbody>\n",
       "    <tr>\n",
       "      <th>0</th>\n",
       "      <td>2019-09-27</td>\n",
       "      <td>26987.2598</td>\n",
       "      <td>27012.5391</td>\n",
       "      <td>26715.8203</td>\n",
       "      <td>26820.2500</td>\n",
       "      <td>217780000</td>\n",
       "    </tr>\n",
       "    <tr>\n",
       "      <th>1</th>\n",
       "      <td>2019-09-26</td>\n",
       "      <td>27004.1094</td>\n",
       "      <td>27015.0703</td>\n",
       "      <td>26803.8398</td>\n",
       "      <td>26891.1191</td>\n",
       "      <td>229180000</td>\n",
       "    </tr>\n",
       "    <tr>\n",
       "      <th>2</th>\n",
       "      <td>2019-09-25</td>\n",
       "      <td>26866.7109</td>\n",
       "      <td>27016.5605</td>\n",
       "      <td>26755.8594</td>\n",
       "      <td>26970.7109</td>\n",
       "      <td>237220000</td>\n",
       "    </tr>\n",
       "    <tr>\n",
       "      <th>3</th>\n",
       "      <td>2019-09-24</td>\n",
       "      <td>27034.0703</td>\n",
       "      <td>27079.6797</td>\n",
       "      <td>26704.9609</td>\n",
       "      <td>26807.7695</td>\n",
       "      <td>301750000</td>\n",
       "    </tr>\n",
       "    <tr>\n",
       "      <th>4</th>\n",
       "      <td>2019-09-23</td>\n",
       "      <td>26851.4492</td>\n",
       "      <td>27011.0703</td>\n",
       "      <td>26831.3398</td>\n",
       "      <td>26949.9902</td>\n",
       "      <td>204240000</td>\n",
       "    </tr>\n",
       "  </tbody>\n",
       "</table>\n",
       "</div>"
      ],
      "text/plain": [
       "    timestamp        open        high         low       close     volume\n",
       "0  2019-09-27  26987.2598  27012.5391  26715.8203  26820.2500  217780000\n",
       "1  2019-09-26  27004.1094  27015.0703  26803.8398  26891.1191  229180000\n",
       "2  2019-09-25  26866.7109  27016.5605  26755.8594  26970.7109  237220000\n",
       "3  2019-09-24  27034.0703  27079.6797  26704.9609  26807.7695  301750000\n",
       "4  2019-09-23  26851.4492  27011.0703  26831.3398  26949.9902  204240000"
      ]
     },
     "execution_count": 118,
     "metadata": {},
     "output_type": "execute_result"
    }
   ],
   "source": [
    "dow_jones_df= pd.read_csv('/Users/dianeshomefolder/Desktop/Dow Jones/dow_jones2.csv')\n",
    "#dow_jones_df.set_index('timestamp')\n",
    "dow_jones_df.head()\n"
   ]
  },
  {
   "cell_type": "code",
   "execution_count": null,
   "metadata": {},
   "outputs": [],
   "source": []
  },
  {
   "cell_type": "code",
   "execution_count": 119,
   "metadata": {},
   "outputs": [
    {
     "data": {
      "text/html": [
       "<div>\n",
       "<style scoped>\n",
       "    .dataframe tbody tr th:only-of-type {\n",
       "        vertical-align: middle;\n",
       "    }\n",
       "\n",
       "    .dataframe tbody tr th {\n",
       "        vertical-align: top;\n",
       "    }\n",
       "\n",
       "    .dataframe thead th {\n",
       "        text-align: right;\n",
       "    }\n",
       "</style>\n",
       "<table border=\"1\" class=\"dataframe\">\n",
       "  <thead>\n",
       "    <tr style=\"text-align: right;\">\n",
       "      <th></th>\n",
       "      <th>timestamp</th>\n",
       "      <th>open</th>\n",
       "      <th>high</th>\n",
       "      <th>low</th>\n",
       "      <th>close</th>\n",
       "      <th>volume</th>\n",
       "      <th>close-open</th>\n",
       "    </tr>\n",
       "  </thead>\n",
       "  <tbody>\n",
       "    <tr>\n",
       "      <th>0</th>\n",
       "      <td>2019-09-27</td>\n",
       "      <td>26987.2598</td>\n",
       "      <td>27012.5391</td>\n",
       "      <td>26715.8203</td>\n",
       "      <td>26820.2500</td>\n",
       "      <td>217780000</td>\n",
       "      <td>-167.0098</td>\n",
       "    </tr>\n",
       "    <tr>\n",
       "      <th>1</th>\n",
       "      <td>2019-09-26</td>\n",
       "      <td>27004.1094</td>\n",
       "      <td>27015.0703</td>\n",
       "      <td>26803.8398</td>\n",
       "      <td>26891.1191</td>\n",
       "      <td>229180000</td>\n",
       "      <td>-112.9903</td>\n",
       "    </tr>\n",
       "    <tr>\n",
       "      <th>2</th>\n",
       "      <td>2019-09-25</td>\n",
       "      <td>26866.7109</td>\n",
       "      <td>27016.5605</td>\n",
       "      <td>26755.8594</td>\n",
       "      <td>26970.7109</td>\n",
       "      <td>237220000</td>\n",
       "      <td>104.0000</td>\n",
       "    </tr>\n",
       "    <tr>\n",
       "      <th>3</th>\n",
       "      <td>2019-09-24</td>\n",
       "      <td>27034.0703</td>\n",
       "      <td>27079.6797</td>\n",
       "      <td>26704.9609</td>\n",
       "      <td>26807.7695</td>\n",
       "      <td>301750000</td>\n",
       "      <td>-226.3008</td>\n",
       "    </tr>\n",
       "    <tr>\n",
       "      <th>4</th>\n",
       "      <td>2019-09-23</td>\n",
       "      <td>26851.4492</td>\n",
       "      <td>27011.0703</td>\n",
       "      <td>26831.3398</td>\n",
       "      <td>26949.9902</td>\n",
       "      <td>204240000</td>\n",
       "      <td>98.5410</td>\n",
       "    </tr>\n",
       "  </tbody>\n",
       "</table>\n",
       "</div>"
      ],
      "text/plain": [
       "    timestamp        open        high         low       close     volume  \\\n",
       "0  2019-09-27  26987.2598  27012.5391  26715.8203  26820.2500  217780000   \n",
       "1  2019-09-26  27004.1094  27015.0703  26803.8398  26891.1191  229180000   \n",
       "2  2019-09-25  26866.7109  27016.5605  26755.8594  26970.7109  237220000   \n",
       "3  2019-09-24  27034.0703  27079.6797  26704.9609  26807.7695  301750000   \n",
       "4  2019-09-23  26851.4492  27011.0703  26831.3398  26949.9902  204240000   \n",
       "\n",
       "   close-open  \n",
       "0   -167.0098  \n",
       "1   -112.9903  \n",
       "2    104.0000  \n",
       "3   -226.3008  \n",
       "4     98.5410  "
      ]
     },
     "execution_count": 119,
     "metadata": {},
     "output_type": "execute_result"
    }
   ],
   "source": [
    "dow_jones_close = dow_jones_df\n",
    "dow_jones_close['close-open'] = dow_jones_df['close'] - dow_jones_close['open']\n",
    "dow_jones_close.head()\n"
   ]
  },
  {
   "cell_type": "code",
   "execution_count": 120,
   "metadata": {},
   "outputs": [
    {
     "data": {
      "text/html": [
       "<div>\n",
       "<style scoped>\n",
       "    .dataframe tbody tr th:only-of-type {\n",
       "        vertical-align: middle;\n",
       "    }\n",
       "\n",
       "    .dataframe tbody tr th {\n",
       "        vertical-align: top;\n",
       "    }\n",
       "\n",
       "    .dataframe thead th {\n",
       "        text-align: right;\n",
       "    }\n",
       "</style>\n",
       "<table border=\"1\" class=\"dataframe\">\n",
       "  <thead>\n",
       "    <tr style=\"text-align: right;\">\n",
       "      <th></th>\n",
       "      <th>timestamp</th>\n",
       "      <th>open</th>\n",
       "      <th>high</th>\n",
       "      <th>low</th>\n",
       "      <th>close</th>\n",
       "      <th>volume</th>\n",
       "      <th>close-open</th>\n",
       "    </tr>\n",
       "  </thead>\n",
       "  <tbody>\n",
       "    <tr>\n",
       "      <th>0</th>\n",
       "      <td>2019-09-27</td>\n",
       "      <td>26987.2598</td>\n",
       "      <td>27012.5391</td>\n",
       "      <td>26715.8203</td>\n",
       "      <td>26820.2500</td>\n",
       "      <td>217780000</td>\n",
       "      <td>-167.0098</td>\n",
       "    </tr>\n",
       "    <tr>\n",
       "      <th>1</th>\n",
       "      <td>2019-09-26</td>\n",
       "      <td>27004.1094</td>\n",
       "      <td>27015.0703</td>\n",
       "      <td>26803.8398</td>\n",
       "      <td>26891.1191</td>\n",
       "      <td>229180000</td>\n",
       "      <td>-112.9903</td>\n",
       "    </tr>\n",
       "    <tr>\n",
       "      <th>2</th>\n",
       "      <td>2019-09-25</td>\n",
       "      <td>26866.7109</td>\n",
       "      <td>27016.5605</td>\n",
       "      <td>26755.8594</td>\n",
       "      <td>26970.7109</td>\n",
       "      <td>237220000</td>\n",
       "      <td>104.0000</td>\n",
       "    </tr>\n",
       "    <tr>\n",
       "      <th>3</th>\n",
       "      <td>2019-09-24</td>\n",
       "      <td>27034.0703</td>\n",
       "      <td>27079.6797</td>\n",
       "      <td>26704.9609</td>\n",
       "      <td>26807.7695</td>\n",
       "      <td>301750000</td>\n",
       "      <td>-226.3008</td>\n",
       "    </tr>\n",
       "    <tr>\n",
       "      <th>4</th>\n",
       "      <td>2019-09-23</td>\n",
       "      <td>26851.4492</td>\n",
       "      <td>27011.0703</td>\n",
       "      <td>26831.3398</td>\n",
       "      <td>26949.9902</td>\n",
       "      <td>204240000</td>\n",
       "      <td>98.5410</td>\n",
       "    </tr>\n",
       "  </tbody>\n",
       "</table>\n",
       "</div>"
      ],
      "text/plain": [
       "    timestamp        open        high         low       close     volume  \\\n",
       "0  2019-09-27  26987.2598  27012.5391  26715.8203  26820.2500  217780000   \n",
       "1  2019-09-26  27004.1094  27015.0703  26803.8398  26891.1191  229180000   \n",
       "2  2019-09-25  26866.7109  27016.5605  26755.8594  26970.7109  237220000   \n",
       "3  2019-09-24  27034.0703  27079.6797  26704.9609  26807.7695  301750000   \n",
       "4  2019-09-23  26851.4492  27011.0703  26831.3398  26949.9902  204240000   \n",
       "\n",
       "   close-open  \n",
       "0   -167.0098  \n",
       "1   -112.9903  \n",
       "2    104.0000  \n",
       "3   -226.3008  \n",
       "4     98.5410  "
      ]
     },
     "execution_count": 120,
     "metadata": {},
     "output_type": "execute_result"
    }
   ],
   "source": [
    "dow_jones_close['close-open'] = [float(x) for x in dow_jones_close['close-open']]\n",
    "dow_jones_close.head()"
   ]
  },
  {
   "cell_type": "code",
   "execution_count": 102,
   "metadata": {},
   "outputs": [
    {
     "name": "stdout",
     "output_type": "stream",
     "text": [
      "-54.019499999998516\n"
     ]
    }
   ],
   "source": [
    "#check that close-open are now float numbers vs. string\n",
    "a = dow_jones_close['close-open'][0] - dow_jones_close['close-open'][1]\n",
    "print(a)"
   ]
  },
  {
   "cell_type": "code",
   "execution_count": 114,
   "metadata": {},
   "outputs": [],
   "source": [
    "#dow_jones_close['timestamp'] = [x.replace('-', '') for x in dow_jones_close['timestamp']]\n",
    "#dow_jones_close['timestamp'] = [int(x) for x in dow_jones_close['timestamp']]\n",
    "#dow_jones_close.head()"
   ]
  },
  {
   "cell_type": "code",
   "execution_count": 121,
   "metadata": {},
   "outputs": [
    {
     "data": {
      "text/html": [
       "<div>\n",
       "<style scoped>\n",
       "    .dataframe tbody tr th:only-of-type {\n",
       "        vertical-align: middle;\n",
       "    }\n",
       "\n",
       "    .dataframe tbody tr th {\n",
       "        vertical-align: top;\n",
       "    }\n",
       "\n",
       "    .dataframe thead th {\n",
       "        text-align: right;\n",
       "    }\n",
       "</style>\n",
       "<table border=\"1\" class=\"dataframe\">\n",
       "  <thead>\n",
       "    <tr style=\"text-align: right;\">\n",
       "      <th></th>\n",
       "      <th>open</th>\n",
       "      <th>high</th>\n",
       "      <th>low</th>\n",
       "      <th>close</th>\n",
       "      <th>volume</th>\n",
       "      <th>close-open</th>\n",
       "    </tr>\n",
       "    <tr>\n",
       "      <th>timestamp</th>\n",
       "      <th></th>\n",
       "      <th></th>\n",
       "      <th></th>\n",
       "      <th></th>\n",
       "      <th></th>\n",
       "      <th></th>\n",
       "    </tr>\n",
       "  </thead>\n",
       "  <tbody>\n",
       "    <tr>\n",
       "      <th>2019-09-27</th>\n",
       "      <td>26987.2598</td>\n",
       "      <td>27012.5391</td>\n",
       "      <td>26715.8203</td>\n",
       "      <td>26820.2500</td>\n",
       "      <td>217780000</td>\n",
       "      <td>-167.0098</td>\n",
       "    </tr>\n",
       "    <tr>\n",
       "      <th>2019-09-26</th>\n",
       "      <td>27004.1094</td>\n",
       "      <td>27015.0703</td>\n",
       "      <td>26803.8398</td>\n",
       "      <td>26891.1191</td>\n",
       "      <td>229180000</td>\n",
       "      <td>-112.9903</td>\n",
       "    </tr>\n",
       "    <tr>\n",
       "      <th>2019-09-25</th>\n",
       "      <td>26866.7109</td>\n",
       "      <td>27016.5605</td>\n",
       "      <td>26755.8594</td>\n",
       "      <td>26970.7109</td>\n",
       "      <td>237220000</td>\n",
       "      <td>104.0000</td>\n",
       "    </tr>\n",
       "    <tr>\n",
       "      <th>2019-09-24</th>\n",
       "      <td>27034.0703</td>\n",
       "      <td>27079.6797</td>\n",
       "      <td>26704.9609</td>\n",
       "      <td>26807.7695</td>\n",
       "      <td>301750000</td>\n",
       "      <td>-226.3008</td>\n",
       "    </tr>\n",
       "    <tr>\n",
       "      <th>2019-09-23</th>\n",
       "      <td>26851.4492</td>\n",
       "      <td>27011.0703</td>\n",
       "      <td>26831.3398</td>\n",
       "      <td>26949.9902</td>\n",
       "      <td>204240000</td>\n",
       "      <td>98.5410</td>\n",
       "    </tr>\n",
       "  </tbody>\n",
       "</table>\n",
       "</div>"
      ],
      "text/plain": [
       "                  open        high         low       close     volume  \\\n",
       "timestamp                                                               \n",
       "2019-09-27  26987.2598  27012.5391  26715.8203  26820.2500  217780000   \n",
       "2019-09-26  27004.1094  27015.0703  26803.8398  26891.1191  229180000   \n",
       "2019-09-25  26866.7109  27016.5605  26755.8594  26970.7109  237220000   \n",
       "2019-09-24  27034.0703  27079.6797  26704.9609  26807.7695  301750000   \n",
       "2019-09-23  26851.4492  27011.0703  26831.3398  26949.9902  204240000   \n",
       "\n",
       "            close-open  \n",
       "timestamp               \n",
       "2019-09-27   -167.0098  \n",
       "2019-09-26   -112.9903  \n",
       "2019-09-25    104.0000  \n",
       "2019-09-24   -226.3008  \n",
       "2019-09-23     98.5410  "
      ]
     },
     "execution_count": 121,
     "metadata": {},
     "output_type": "execute_result"
    }
   ],
   "source": [
    "dow_jones_close_no_index = dow_jones_close.set_index('timestamp')\n",
    "dow_jones_close_no_index.head()\n"
   ]
  },
  {
   "cell_type": "code",
   "execution_count": 109,
   "metadata": {},
   "outputs": [
    {
     "name": "stdout",
     "output_type": "stream",
     "text": [
      "1\n"
     ]
    }
   ],
   "source": [
    "#check that close-open are now float numbers vs. string\n",
    "b = dow_jones_close['timestamp'][0] - dow_jones_close['timestamp'][1]\n",
    "print(b)"
   ]
  },
  {
   "cell_type": "code",
   "execution_count": 123,
   "metadata": {},
   "outputs": [
    {
     "name": "stdout",
     "output_type": "stream",
     "text": [
      "2312\n"
     ]
    }
   ],
   "source": [
    "trump_negative = dow_jones_close_no_index.lt(0).sum().sum() \n",
    "print(trump_negative)"
   ]
  },
  {
   "cell_type": "code",
   "execution_count": 122,
   "metadata": {},
   "outputs": [
    {
     "ename": "ValueError",
     "evalue": "The truth value of a Series is ambiguous. Use a.empty, a.bool(), a.item(), a.any() or a.all().",
     "output_type": "error",
     "traceback": [
      "\u001b[0;31m---------------------------------------------------------------------------\u001b[0m",
      "\u001b[0;31mValueError\u001b[0m                                Traceback (most recent call last)",
      "\u001b[0;32m<ipython-input-122-9c6ef0952c2f>\u001b[0m in \u001b[0;36m<module>\u001b[0;34m\u001b[0m\n\u001b[1;32m      6\u001b[0m \u001b[0;34m\u001b[0m\u001b[0m\n\u001b[1;32m      7\u001b[0m \u001b[0;32mfor\u001b[0m \u001b[0mtimestamp\u001b[0m \u001b[0;32min\u001b[0m \u001b[0mdow_jones_close_no_index\u001b[0m\u001b[0;34m.\u001b[0m\u001b[0mloc\u001b[0m\u001b[0;34m[\u001b[0m\u001b[0mdate_trump_election\u001b[0m\u001b[0;34m:\u001b[0m\u001b[0mdate_trump_inaug\u001b[0m\u001b[0;34m]\u001b[0m\u001b[0;34m:\u001b[0m\u001b[0;34m\u001b[0m\u001b[0;34m\u001b[0m\u001b[0m\n\u001b[0;32m----> 8\u001b[0;31m     \u001b[0;32mif\u001b[0m \u001b[0mdow_jones_close_no_index\u001b[0m\u001b[0;34m[\u001b[0m\u001b[0;34m'close-open'\u001b[0m\u001b[0;34m]\u001b[0m \u001b[0;34m>=\u001b[0m \u001b[0;36m0\u001b[0m\u001b[0;34m:\u001b[0m\u001b[0;34m\u001b[0m\u001b[0;34m\u001b[0m\u001b[0m\n\u001b[0m\u001b[1;32m      9\u001b[0m         \u001b[0mcount_positive\u001b[0m \u001b[0;34m+=\u001b[0m \u001b[0;36m1\u001b[0m\u001b[0;34m\u001b[0m\u001b[0;34m\u001b[0m\u001b[0m\n\u001b[1;32m     10\u001b[0m         \u001b[0mprint\u001b[0m\u001b[0;34m(\u001b[0m\u001b[0mcount_positive\u001b[0m\u001b[0;34m)\u001b[0m\u001b[0;34m\u001b[0m\u001b[0;34m\u001b[0m\u001b[0m\n",
      "\u001b[0;32m/anaconda3/lib/python3.7/site-packages/pandas/core/generic.py\u001b[0m in \u001b[0;36m__nonzero__\u001b[0;34m(self)\u001b[0m\n\u001b[1;32m   1476\u001b[0m         raise ValueError(\"The truth value of a {0} is ambiguous. \"\n\u001b[1;32m   1477\u001b[0m                          \u001b[0;34m\"Use a.empty, a.bool(), a.item(), a.any() or a.all().\"\u001b[0m\u001b[0;34m\u001b[0m\u001b[0;34m\u001b[0m\u001b[0m\n\u001b[0;32m-> 1478\u001b[0;31m                          .format(self.__class__.__name__))\n\u001b[0m\u001b[1;32m   1479\u001b[0m \u001b[0;34m\u001b[0m\u001b[0m\n\u001b[1;32m   1480\u001b[0m     \u001b[0m__bool__\u001b[0m \u001b[0;34m=\u001b[0m \u001b[0m__nonzero__\u001b[0m\u001b[0;34m\u001b[0m\u001b[0;34m\u001b[0m\u001b[0m\n",
      "\u001b[0;31mValueError\u001b[0m: The truth value of a Series is ambiguous. Use a.empty, a.bool(), a.item(), a.any() or a.all()."
     ]
    }
   ],
   "source": [
    "date_trump_election = '20161108'\n",
    "date_trump_inaug = '20170120'\n",
    "\n",
    "count_positive = 0\n",
    "count_negative = 0\n",
    "\n",
    "for timestamp in dow_jones_close_no_index.loc[date_trump_election:date_trump_inaug]:\n",
    "    if dow_jones_close_no_index['close-open'] >= 0:\n",
    "        count_positive += 1\n",
    "        print(count_positive)\n",
    "    elif dow_jones_close_no_index['close-open'] < 0:\n",
    "        count_negative += 1\n",
    "        print(count_negative)\n",
    "print(count_positive)\n",
    "                \n",
    "           "
   ]
  },
  {
   "cell_type": "code",
   "execution_count": null,
   "metadata": {},
   "outputs": [],
   "source": []
  },
  {
   "cell_type": "code",
   "execution_count": null,
   "metadata": {},
   "outputs": [],
   "source": [
    "date_bins = []"
   ]
  },
  {
   "cell_type": "code",
   "execution_count": null,
   "metadata": {},
   "outputs": [],
   "source": [
    "bin_labels = []"
   ]
  },
  {
   "cell_type": "code",
   "execution_count": null,
   "metadata": {},
   "outputs": [],
   "source": []
  },
  {
   "cell_type": "code",
   "execution_count": null,
   "metadata": {},
   "outputs": [],
   "source": [
    "\n"
   ]
  },
  {
   "cell_type": "code",
   "execution_count": null,
   "metadata": {},
   "outputs": [],
   "source": []
  },
  {
   "cell_type": "code",
   "execution_count": 50,
   "metadata": {},
   "outputs": [],
   "source": []
  },
  {
   "cell_type": "code",
   "execution_count": null,
   "metadata": {},
   "outputs": [],
   "source": []
  },
  {
   "cell_type": "code",
   "execution_count": 48,
   "metadata": {},
   "outputs": [],
   "source": []
  },
  {
   "cell_type": "code",
   "execution_count": 56,
   "metadata": {},
   "outputs": [],
   "source": []
  },
  {
   "cell_type": "code",
   "execution_count": 55,
   "metadata": {},
   "outputs": [],
   "source": []
  },
  {
   "cell_type": "code",
   "execution_count": null,
   "metadata": {},
   "outputs": [],
   "source": []
  },
  {
   "cell_type": "code",
   "execution_count": null,
   "metadata": {},
   "outputs": [],
   "source": []
  }
 ],
 "metadata": {
  "kernelspec": {
   "display_name": "Python 3",
   "language": "python",
   "name": "python3"
  },
  "language_info": {
   "codemirror_mode": {
    "name": "ipython",
    "version": 3
   },
   "file_extension": ".py",
   "mimetype": "text/x-python",
   "name": "python",
   "nbconvert_exporter": "python",
   "pygments_lexer": "ipython3",
   "version": "3.7.3"
  }
 },
 "nbformat": 4,
 "nbformat_minor": 2
}
