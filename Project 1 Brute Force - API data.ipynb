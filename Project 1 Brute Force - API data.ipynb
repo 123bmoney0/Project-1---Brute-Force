{
 "cells": [
  {
   "cell_type": "markdown",
   "metadata": {},
   "source": [
    "# STOCKING PRESIDENTS\n",
    "                    by Brute Force\n",
    "                    \n",
    "            Brian Groce, Diane Scherpereel, Roger Albarran"
   ]
  },
  {
   "cell_type": "markdown",
   "metadata": {},
   "source": [
    "### This Jupyter Notebook was created to pull down ~20 years of Dow Jones stock data using an Alpha Vantage API.\n",
    "\n",
    "Note that in a later conversation with an experienced coder, Daniel Crook, we learned that\n",
    "there's a better way to do this. However, this is the knowledge we had at the time."
   ]
  },
  {
   "cell_type": "code",
   "execution_count": 1,
   "metadata": {},
   "outputs": [],
   "source": [
    "# Dependencies and Setup\n",
    "\n",
    "import csv\n",
    "import matplotlib.pyplot as plt\n",
    "import numpy as np\n",
    "import os\n",
    "import pandas as pd\n",
    "import requests\n",
    "import seaborn as sns\n",
    "import time\n",
    "\n",
    "# Import API key\n",
    "#from api_key import AV_api_key\n"
   ]
  },
  {
   "cell_type": "code",
   "execution_count": 2,
   "metadata": {},
   "outputs": [],
   "source": [
    "# List url for data collection from Alpha Vantage (https://www.alphavantage.co/documentation/)\n",
    "# AV_url = \"https://www.alphavantage.co/query?\"  # for JSON output\n",
    "\n",
    "# functions for Alpha Vantage\n",
    "#function=TIME_SERIES_DAILY&symbol=MSFT&outputsize=full&apikey=demo # for 'daily' and JSON output\n",
    "#function=TIME_SERIES_DAILY&symbol=MSFT&apikey=demo&datatype=csv # for csv output\n",
    "\n",
    "# dow_symbol = '.DJI'\n",
    "# nasdaq_symbol = '^IXIC'\n",
    "\n",
    "# Use this URL\n",
    "url = \"https://www.alphavantage.co/query?function=TIME_SERIES_DAILY&symbol=.DJI&outputsize=full&apikey=AV_api_key&datatype=csv\"\n"
   ]
  },
  {
   "cell_type": "code",
   "execution_count": 5,
   "metadata": {},
   "outputs": [],
   "source": [
    "# Retrieve data from Alpha Vantage\n",
    "\n",
    "with requests.Session() as s:\n",
    "    download = s.get(url)\n",
    "\n",
    "    decoded_content = download.content.decode('utf-8')\n",
    "\n",
    "    # Check data\n",
    "    cr = csv.reader(decoded_content.splitlines(), delimiter=',')\n",
    "    my_list = list(cr)\n",
    "    #for row in my_list:\n",
    "        #print(row)\n"
   ]
  },
  {
   "cell_type": "code",
   "execution_count": 6,
   "metadata": {},
   "outputs": [],
   "source": [
    "# Join file to write data to\n",
    "\n",
    "#stock_output = os.path.join('/Users/dianeshomefolder/Desktop/Dow Jones/dow_jones.csv')\n",
    "stock_output2 = os.path.join('/Users/dianeshomefolder/Desktop/Dow Jones/dow_jones2.csv')\n"
   ]
  },
  {
   "cell_type": "code",
   "execution_count": 7,
   "metadata": {},
   "outputs": [],
   "source": [
    "# Write data to file\n",
    "\n",
    "with open(stock_output2,'w+') as file:\n",
    "    file.write(decoded_content)\n"
   ]
  },
  {
   "cell_type": "code",
   "execution_count": 8,
   "metadata": {},
   "outputs": [],
   "source": [
    "# Check this file\n",
    "\n",
    "#print(decoded_content)\n"
   ]
  },
  {
   "cell_type": "markdown",
   "metadata": {},
   "source": [
    "### From here, go to Project 1 Brute Force continuing code"
   ]
  }
 ],
 "metadata": {
  "kernelspec": {
   "display_name": "Python 3",
   "language": "python",
   "name": "python3"
  },
  "language_info": {
   "codemirror_mode": {
    "name": "ipython",
    "version": 3
   },
   "file_extension": ".py",
   "mimetype": "text/x-python",
   "name": "python",
   "nbconvert_exporter": "python",
   "pygments_lexer": "ipython3",
   "version": "3.7.3"
  }
 },
 "nbformat": 4,
 "nbformat_minor": 2
}
